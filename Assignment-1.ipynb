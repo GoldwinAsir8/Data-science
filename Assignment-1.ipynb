{
 "cells": [
  {
   "cell_type": "markdown",
   "id": "8fc6351d-f997-4858-aff4-7229fc670f27",
   "metadata": {},
   "source": [
    "## Assignments"
   ]
  },
  {
   "cell_type": "markdown",
   "id": "a08a5aae-aee3-454c-9512-11c66accbf64",
   "metadata": {},
   "source": [
    "### program-1 (Prime number)"
   ]
  },
  {
   "cell_type": "code",
   "execution_count": 15,
   "id": "e153f74b-c515-4599-b216-713aeedd8678",
   "metadata": {},
   "outputs": [
    {
     "name": "stdin",
     "output_type": "stream",
     "text": [
      "enter the number: 11\n"
     ]
    },
    {
     "name": "stdout",
     "output_type": "stream",
     "text": [
      "The number is prime\n"
     ]
    }
   ],
   "source": [
    "# get a numeric value to check whether prime number or not\n",
    "num=int(input(\"enter the number:\"))\n",
    "# if given value greater than 2 then the value get process\n",
    "if num>1:\n",
    "    for i in range(2,num):\n",
    "        # check remainder of given value is equal to zero or not\n",
    "        if (num % i)==0:\n",
    "            # the remainder value is zero then reflect below line\n",
    "            print(\"The number is not prime\")\n",
    "            break\n",
    "    else:\n",
    "        print(\"The number is prime\")\n",
    "        "
   ]
  },
  {
   "cell_type": "markdown",
   "id": "b68fa4f2-a7b4-41e5-a525-c0a8b77861e2",
   "metadata": {},
   "source": [
    "#### program-2 (Product of random numbers)"
   ]
  },
  {
   "cell_type": "code",
   "execution_count": 16,
   "id": "55af2f75-0d9d-4964-b866-c9ed67d5b56d",
   "metadata": {},
   "outputs": [
    {
     "name": "stdin",
     "output_type": "stream",
     "text": [
      "what is the product of 10 and 10? 50\n"
     ]
    },
    {
     "name": "stdout",
     "output_type": "stream",
     "text": [
      "the values are incorrect, the correct answer is 100.\n"
     ]
    }
   ],
   "source": [
    "# import random module \n",
    "import random\n",
    "\n",
    "# get a random integer value using by random module.\n",
    "num1=random.randint(1,10)\n",
    "num2=random.randint(1,10)\n",
    "\n",
    "# taken random value get product\n",
    "product=num1*num2\n",
    "\n",
    "# user can enter two random value from 1 to 10, this values can be printed by f-string\n",
    "user_answer=int(input(f\"what is the product of {num1} and {num2}?\"))\n",
    "\n",
    "# check whether user value and product value are same.\n",
    "if user_answer==product:\n",
    "    # if both values are same, below line will be printed\n",
    "    print(\"the values are correct!\")\n",
    "else:\n",
    "    # if both values are not same, below line will be printed\n",
    "    print(f\"the values are incorrect, the correct answer is {product}.\")"
   ]
  },
  {
   "cell_type": "markdown",
   "id": "e4524d4b-1611-404a-90c4-7c38e1d977b4",
   "metadata": {},
   "source": [
    "3. Squares of even numbers within the range 100 to 200"
   ]
  },
  {
   "cell_type": "code",
   "execution_count": 1,
   "id": "9210a2e0-6a71-4dca-96c2-923a4aa0c9f0",
   "metadata": {},
   "outputs": [
    {
     "name": "stdout",
     "output_type": "stream",
     "text": [
      "square of 100 is 10000\n",
      "square of 102 is 10404\n",
      "square of 104 is 10816\n",
      "square of 106 is 11236\n",
      "square of 108 is 11664\n",
      "square of 110 is 12100\n",
      "square of 112 is 12544\n",
      "square of 114 is 12996\n",
      "square of 116 is 13456\n",
      "square of 118 is 13924\n",
      "square of 120 is 14400\n",
      "square of 122 is 14884\n",
      "square of 124 is 15376\n",
      "square of 126 is 15876\n",
      "square of 128 is 16384\n",
      "square of 130 is 16900\n",
      "square of 132 is 17424\n",
      "square of 134 is 17956\n",
      "square of 136 is 18496\n",
      "square of 138 is 19044\n",
      "square of 140 is 19600\n",
      "square of 142 is 20164\n",
      "square of 144 is 20736\n",
      "square of 146 is 21316\n",
      "square of 148 is 21904\n",
      "square of 150 is 22500\n",
      "square of 152 is 23104\n",
      "square of 154 is 23716\n",
      "square of 156 is 24336\n",
      "square of 158 is 24964\n",
      "square of 160 is 25600\n",
      "square of 162 is 26244\n",
      "square of 164 is 26896\n",
      "square of 166 is 27556\n",
      "square of 168 is 28224\n",
      "square of 170 is 28900\n",
      "square of 172 is 29584\n",
      "square of 174 is 30276\n",
      "square of 176 is 30976\n",
      "square of 178 is 31684\n",
      "square of 180 is 32400\n",
      "square of 182 is 33124\n",
      "square of 184 is 33856\n",
      "square of 186 is 34596\n",
      "square of 188 is 35344\n",
      "square of 190 is 36100\n",
      "square of 192 is 36864\n",
      "square of 194 is 37636\n",
      "square of 196 is 38416\n",
      "square of 198 is 39204\n",
      "square of 200 is 40000\n"
     ]
    }
   ],
   "source": [
    "for num in range(100,200+1):  # taken numbers the range from 100 to 200\n",
    "    if num%2==0:   # to check taken numbers divisible by 2, if divisible next line will be printed\n",
    "        print(f'square of {num} is {num**2}')  # print the divisble numbers and square of them using by f-string"
   ]
  },
  {
   "cell_type": "markdown",
   "id": "9af78667-ee45-4470-98d7-3d9ac53a76c9",
   "metadata": {},
   "source": [
    "4. Word Counter"
   ]
  },
  {
   "cell_type": "code",
   "execution_count": 6,
   "id": "c071286f-6992-45a0-8392-d1f9138d2a6d",
   "metadata": {},
   "outputs": [
    {
     "name": "stdout",
     "output_type": "stream",
     "text": [
      "'This': 2\n",
      "'is': 1\n",
      "'a': 1\n",
      "'sample': 1\n",
      "'text.': 1\n",
      "'text': 1\n",
      "'will': 1\n",
      "'be': 1\n",
      "'used': 1\n",
      "'to': 1\n",
      "'demonstrate': 1\n",
      "'the': 1\n",
      "'word': 1\n",
      "'counter': 1\n"
     ]
    }
   ],
   "source": [
    "from collections import Counter\n",
    "def count_words(text):\n",
    "    # Split the text into words\n",
    "    words = text.split()\n",
    "    \n",
    "    # Count occurrences of each word\n",
    "    word_count = Counter(words)\n",
    "    \n",
    "    # Print word counts\n",
    "    for word,count in word_count.items():\n",
    "        print(f\"'{word}': {count}\")\n",
    "        \n",
    "text = \"\"\"This is a sample text. This text will be used to demonstrate the word counter\"\"\"\n",
    "count_words(text)"
   ]
  },
  {
   "cell_type": "markdown",
   "id": "d90a9659-35ea-4d5d-938b-08e74112e1d0",
   "metadata": {},
   "source": [
    "### 5.Palindrome"
   ]
  },
  {
   "cell_type": "code",
   "execution_count": 8,
   "id": "6a3196d2-ce6a-4109-b077-19543d62857b",
   "metadata": {},
   "outputs": [
    {
     "name": "stdin",
     "output_type": "stream",
     "text": [
      "Enter the string: malayalam\n"
     ]
    },
    {
     "name": "stdout",
     "output_type": "stream",
     "text": [
      "True\n"
     ]
    }
   ],
   "source": [
    "def isPalindrome(s): # create function ispalindrome calling by parameter s.\n",
    "    return s == s[::-1]   # checked reversed string with original string and return the value\n",
    "\n",
    "s = input(\"Enter the string:\")  # getting the string as input\n",
    "ans = isPalindrome(s)  # parameter stored at variable called ans\n",
    "\n",
    "if ans:     # if returned value stored at variable ans then will be printed True otherwise False\n",
    "    print(\"True\")\n",
    "else:\n",
    "    print(\"False\")"
   ]
  },
  {
   "cell_type": "code",
   "execution_count": null,
   "id": "232032c9-3311-4701-929f-1528578d10aa",
   "metadata": {},
   "outputs": [],
   "source": []
  }
 ],
 "metadata": {
  "kernelspec": {
   "display_name": "Python 3 (ipykernel)",
   "language": "python",
   "name": "python3"
  },
  "language_info": {
   "codemirror_mode": {
    "name": "ipython",
    "version": 3
   },
   "file_extension": ".py",
   "mimetype": "text/x-python",
   "name": "python",
   "nbconvert_exporter": "python",
   "pygments_lexer": "ipython3",
   "version": "3.12.3"
  }
 },
 "nbformat": 4,
 "nbformat_minor": 5
}
