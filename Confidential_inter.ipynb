{
 "cells": [
  {
   "cell_type": "code",
   "execution_count": 1,
   "id": "26eb785b-543f-4b5d-b16b-4507790305a7",
   "metadata": {},
   "outputs": [],
   "source": [
    "from scipy import stats\n",
    "import pandas as pd"
   ]
  },
  {
   "cell_type": "code",
   "execution_count": 2,
   "id": "9a493f9a-919d-4d09-ade5-e1b83c1995b8",
   "metadata": {},
   "outputs": [],
   "source": [
    "import numpy as np"
   ]
  },
  {
   "cell_type": "markdown",
   "id": "6f5b975a-4cb5-4979-8474-16c1c6b4c192",
   "metadata": {},
   "source": [
    "### A total of 15 print-heads were randomly selected and tested until failure. The durability of each print-head (in millions of characters) was recorded as follows:\n",
    "1.13, 1.55, 1.43, 0.92, 1.25, 1.36, 1.32, 0.85, 1.07, 1.48, 1.20, 1.33, 1.18, 1.22, 1.29\n"
   ]
  },
  {
   "cell_type": "markdown",
   "id": "a95980ec-bccd-4c2b-ae7e-06f83b5ad854",
   "metadata": {},
   "source": [
    "## n=15, sample_mean(x)=1.23"
   ]
  },
  {
   "cell_type": "code",
   "execution_count": 9,
   "id": "45885813-de47-49c0-ba0a-c5e9cbd03bc6",
   "metadata": {},
   "outputs": [],
   "source": [
    "data=[1.13, 1.55, 1.43, 0.92, 1.25, 1.36, 1.32, 0.85, 1.07, 1.48, 1.20, 1.33, 1.18, 1.22, 1.29]"
   ]
  },
  {
   "cell_type": "code",
   "execution_count": 11,
   "id": "4d6658e5-baf3-476e-8135-4e03a93b0abf",
   "metadata": {},
   "outputs": [
    {
     "name": "stdout",
     "output_type": "stream",
     "text": [
      "1.2386666666666666\n"
     ]
    }
   ],
   "source": [
    "data_mean=np.mean(data)          # to find mean value of given dataset\n",
    "print(data_mean)"
   ]
  },
  {
   "cell_type": "code",
   "execution_count": 13,
   "id": "79baf3f8-aa01-43b2-b7f1-a57d735c7fb3",
   "metadata": {},
   "outputs": [
    {
     "name": "stdout",
     "output_type": "stream",
     "text": [
      "0.18661427836285438\n"
     ]
    }
   ],
   "source": [
    "std_dev=np.std(data)              # to find sample standard deviation of given dataset\n",
    "print(std_dev)"
   ]
  },
  {
   "cell_type": "code",
   "execution_count": 18,
   "id": "0b4a0914-f18e-402e-9227-2153a7630dee",
   "metadata": {},
   "outputs": [
    {
     "data": {
      "text/plain": [
       "(np.float64(1.0951759765588598), np.float64(1.38202402344114))"
      ]
     },
     "execution_count": 18,
     "metadata": {},
     "output_type": "execute_result"
    }
   ],
   "source": [
    "inter=stats.t.interval(0.99,loc=1.2386,scale=0.1866/np.sqrt(15), df=14)          \n",
    "inter"
   ]
  },
  {
   "cell_type": "markdown",
   "id": "1fbecee3-9c1e-42b5-857e-09bf8f6becde",
   "metadata": {},
   "source": [
    "### Here i found t-distribution because total number sample is less than 30 and population standard deviation is unknown,\n",
    "### 99% confidence interval is between 1.0951 to 1.3820"
   ]
  },
  {
   "cell_type": "code",
   "execution_count": 19,
   "id": "9dccc635-a3d9-4b52-8237-079a1ae6256d",
   "metadata": {},
   "outputs": [
    {
     "data": {
      "text/plain": [
       "(np.float64(1.105884746729094), np.float64(1.3719152532709058))"
      ]
     },
     "execution_count": 19,
     "metadata": {},
     "output_type": "execute_result"
    }
   ],
   "source": [
    "inter1=stats.norm.interval(0.99,loc=1.2389,scale=0.2/np.sqrt(15))\n",
    "inter1"
   ]
  },
  {
   "cell_type": "markdown",
   "id": "528bfd18-0b94-40c5-bd88-a38079c6975b",
   "metadata": {},
   "source": [
    "### Here i took normal z-distribution because population standard deviation is known,\n",
    "### Here i found 99% of confidence interval between 1.0951 million characters to 1.3820 characters."
   ]
  },
  {
   "cell_type": "code",
   "execution_count": null,
   "id": "18a20859-7e5a-4641-be3d-bdffbaba1a11",
   "metadata": {},
   "outputs": [],
   "source": []
  }
 ],
 "metadata": {
  "kernelspec": {
   "display_name": "Python 3 (ipykernel)",
   "language": "python",
   "name": "python3"
  },
  "language_info": {
   "codemirror_mode": {
    "name": "ipython",
    "version": 3
   },
   "file_extension": ".py",
   "mimetype": "text/x-python",
   "name": "python",
   "nbconvert_exporter": "python",
   "pygments_lexer": "ipython3",
   "version": "3.12.3"
  }
 },
 "nbformat": 4,
 "nbformat_minor": 5
}
