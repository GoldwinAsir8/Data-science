{
 "cells": [
  {
   "cell_type": "markdown",
   "id": "0ad4905c-2ec6-4627-af4a-234827723535",
   "metadata": {},
   "source": [
    "## Chi-Square Test"
   ]
  },
  {
   "cell_type": "markdown",
   "id": "0b1c88bd-bc75-4f97-90f7-70c930c89aff",
   "metadata": {},
   "source": [
    "### Null Hypothesis (Ho) : There is no association between the type of smart home device and the customer satisfaction level\n",
    "### Alternate Hypothesis (H1) : There is association between the type of smart home device and the customer satisfaction level"
   ]
  },
  {
   "cell_type": "code",
   "execution_count": 1,
   "id": "9ed5c61a-829d-4fea-9a80-f96ba8b5e846",
   "metadata": {},
   "outputs": [],
   "source": [
    "import scipy.stats as stats          # import scipy.stats module from stats package"
   ]
  },
  {
   "cell_type": "code",
   "execution_count": 2,
   "id": "2997eb94-1ba6-4d69-a1d7-0ffe95dac7fc",
   "metadata": {},
   "outputs": [],
   "source": [
    "table = [[50,70],[80,100],[60,90],[30,50],[20,50]]       # Observed values given in array format"
   ]
  },
  {
   "cell_type": "code",
   "execution_count": 3,
   "id": "37c3fdf0-603a-4e3c-827a-9c9dcb490f18",
   "metadata": {},
   "outputs": [
    {
     "data": {
      "text/plain": [
       "[[50, 70], [80, 100], [60, 90], [30, 50], [20, 50]]"
      ]
     },
     "execution_count": 3,
     "metadata": {},
     "output_type": "execute_result"
    }
   ],
   "source": [
    "table                                                # print the table of observed values"
   ]
  },
  {
   "cell_type": "code",
   "execution_count": 4,
   "id": "e5f28c75-34f3-4714-82af-189e490599f4",
   "metadata": {},
   "outputs": [
    {
     "name": "stdout",
     "output_type": "stream",
     "text": [
      "dof=4\n",
      "0.22784371130697179\n"
     ]
    }
   ],
   "source": [
    "stat, p, dof, expected = stats.chi2_contingency(table)    # p-vale, degree of freedom value, expectedd values calculated from chi-square contingency table \n",
    "print('dof=%d' % dof)                                  # this line print degree of freedom value\n",
    "print(p)                                                  # this line print p-value"
   ]
  },
  {
   "cell_type": "code",
   "execution_count": 5,
   "id": "79010c23-e864-4f41-8531-78cb5779a14f",
   "metadata": {},
   "outputs": [
    {
     "data": {
      "text/plain": [
       "array([[ 48.,  72.],\n",
       "       [ 72., 108.],\n",
       "       [ 60.,  90.],\n",
       "       [ 32.,  48.],\n",
       "       [ 28.,  42.]])"
      ]
     },
     "execution_count": 5,
     "metadata": {},
     "output_type": "execute_result"
    }
   ],
   "source": [
    "expected                                         # this line print expected value"
   ]
  },
  {
   "cell_type": "code",
   "execution_count": 6,
   "id": "e7517b6b-2094-4609-aab8-8a8514e95587",
   "metadata": {},
   "outputs": [
    {
     "name": "stdout",
     "output_type": "stream",
     "text": [
      "significance=0.050, p=0.228\n",
      "There is no association between the type of smart home device and the customer satisfaction level\n"
     ]
    }
   ],
   "source": [
    "alpha = 0.05                       # alpha value given as 0.05\n",
    "print('significance=%.3f, p=%.3f' %(alpha,p))              # this line print significance value and p-value\n",
    "if p<= alpha:                                        # if p-value lesser than significance value then conclution as there is association between smart home device and the customer satisfaction level\n",
    "    print('There is association between the type of smart home device and the customer satisfaction level')\n",
    "else:\n",
    "    print('There is no association between the type of smart home device and the customer satisfaction level')"
   ]
  },
  {
   "cell_type": "markdown",
   "id": "a1b8fad6-7c2d-4dc7-a642-5fe858da86b3",
   "metadata": {},
   "source": [
    "## Hypothesis Testing"
   ]
  },
  {
   "cell_type": "markdown",
   "id": "ad25e0c3-33ed-4a9e-8dfe-3be124e4e53c",
   "metadata": {},
   "source": [
    "### 1. Hypothesis statement"
   ]
  },
  {
   "cell_type": "markdown",
   "id": "982ce027-acb3-42ed-9d51-ddc66042be18",
   "metadata": {},
   "source": [
    "### Null Hypothesis (Ho) : The weekly operating cost is not greater than the model suggest \n",
    "###                                Ho : µ = 4000\n",
    "### Alternative Hypothesis (H1) : The weekly operating cost is greater than the model suggest\n",
    "###                                H1 : µ > 4000"
   ]
  },
  {
   "cell_type": "markdown",
   "id": "d2db0351-0f4b-460e-ac7c-c3eea33cd911",
   "metadata": {},
   "source": [
    "### 2. Calculate the Test statistics"
   ]
  },
  {
   "cell_type": "markdown",
   "id": "7e4ac5ad-062b-4478-a2c8-6a0c32870c5f",
   "metadata": {},
   "source": [
    "### sample mean = 3050\n",
    "### Theoretical mean µ = 4000\n",
    "### Standard deviation = 25\n",
    "### weekly cost standard deviation = 125\n",
    "### sample size n=25"
   ]
  },
  {
   "cell_type": "code",
   "execution_count": 7,
   "id": "01bdf26e-e346-4d04-8aaa-dac8d8575971",
   "metadata": {},
   "outputs": [],
   "source": [
    "import scipy.stats as stats\n",
    "import math\n",
    "\n",
    "# Given data\n",
    "sample_mean = 3050           # sample mean weekly cost\n",
    "theoretical_mean = 1000 + 5 * 600  # theoretical mean: 1000 + 5*600\n",
    "sigma = 5 * 25               # population standard deviation\n",
    "sample_size = 25             # number of restaurants\n",
    "alpha = 0.05                 # significance level"
   ]
  },
  {
   "cell_type": "code",
   "execution_count": 8,
   "id": "738484c0-5253-4d56-9d45-2b37fc136c49",
   "metadata": {},
   "outputs": [],
   "source": [
    "standard_error = sigma / math.sqrt(sample_size)         \n",
    "z_score = (sample_mean - theoretical_mean) / standard_error    # Calculates the Z-score"
   ]
  },
  {
   "cell_type": "code",
   "execution_count": 9,
   "id": "46b4b5a0-ef2c-4d74-b474-5e454cd831c4",
   "metadata": {},
   "outputs": [],
   "source": [
    "z_critical = stats.norm.ppf(1 - alpha)  # Find the critical z-value for a one-tailed test"
   ]
  },
  {
   "cell_type": "code",
   "execution_count": 11,
   "id": "33a57e31-343a-4098-b9e2-9158410daa62",
   "metadata": {},
   "outputs": [
    {
     "name": "stdout",
     "output_type": "stream",
     "text": [
      "Theoretical mean (μ): 4000\n",
      "Sample mean (x̄): 3050\n",
      "Population standard deviation (σ): 125\n",
      "Sample size (n): 25\n",
      "Standard error: 25.00\n",
      "Calculated z-score: -38.00\n",
      "Critical z-value at α = 0.05: 1.64\n"
     ]
    }
   ],
   "source": [
    "print(f\"Theoretical mean (μ): {theoretical_mean}\")          # prints the results\n",
    "print(f\"Sample mean (x̄): {sample_mean}\")\n",
    "print(f\"Population standard deviation (σ): {sigma}\")\n",
    "print(f\"Sample size (n): {sample_size}\")\n",
    "print(f\"Standard error: {standard_error:.2f}\")\n",
    "print(f\"Calculated z-score: {z_score:.2f}\")\n",
    "print(f\"Critical z-value at α = {alpha}: {z_critical:.2f}\")"
   ]
  },
  {
   "cell_type": "code",
   "execution_count": 14,
   "id": "159e73ef-bb44-46f3-8e67-e86c8ed3b3ab",
   "metadata": {},
   "outputs": [
    {
     "name": "stdout",
     "output_type": "stream",
     "text": [
      "The weekly operating cost is not greater than the model suggest.\n"
     ]
    }
   ],
   "source": [
    "if z_score > z_critical:\n",
    "    print(\".The weekly operating cost is greater than the model suggest\")\n",
    "else:\n",
    "    print(\"The weekly operating cost is not greater than the model suggest.\")"
   ]
  },
  {
   "cell_type": "code",
   "execution_count": 15,
   "id": "66608954-4e74-4ce1-b763-5e8df7f1e612",
   "metadata": {},
   "outputs": [],
   "source": [
    "# based on the statistical anaylsis,  The weekly operating cost is not greater than the model suggest."
   ]
  },
  {
   "cell_type": "code",
   "execution_count": null,
   "id": "2c136ce1-0fcd-4b11-96a3-1ba0049ab40d",
   "metadata": {},
   "outputs": [],
   "source": []
  }
 ],
 "metadata": {
  "kernelspec": {
   "display_name": "Python 3 (ipykernel)",
   "language": "python",
   "name": "python3"
  },
  "language_info": {
   "codemirror_mode": {
    "name": "ipython",
    "version": 3
   },
   "file_extension": ".py",
   "mimetype": "text/x-python",
   "name": "python",
   "nbconvert_exporter": "python",
   "pygments_lexer": "ipython3",
   "version": "3.12.3"
  }
 },
 "nbformat": 4,
 "nbformat_minor": 5
}
